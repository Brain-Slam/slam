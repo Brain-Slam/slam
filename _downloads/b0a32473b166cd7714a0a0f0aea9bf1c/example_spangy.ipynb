{
  "cells": [
    {
      "cell_type": "code",
      "execution_count": null,
      "metadata": {
        "collapsed": false
      },
      "outputs": [],
      "source": [
        "%matplotlib inline"
      ]
    },
    {
      "cell_type": "markdown",
      "metadata": {},
      "source": [
        "\n\n===================================\nExample of Spectral Analysis of Gyrification (SPANGY) decomposition\nD. Germanaud*, J. Lefevre*,R. Toro, C. Fischer, J.Dubois, L. Hertz-Pannier,\nJ.F. Mangin, Larger is twistier:Spectral Analysis of Gyrification (SPANGY)\napplied to adult brain size polymorphism,Neuroimage, 63 (3), 1257-1272, 2012.\n===================================\n"
      ]
    },
    {
      "cell_type": "code",
      "execution_count": null,
      "metadata": {
        "collapsed": false
      },
      "outputs": [],
      "source": [
        "import slam.io as sio\nimport numpy as np\nimport slam.differential_geometry as sdg\nimport slam.curvature as scurv\nfrom scipy.sparse.linalg import eigsh\nimport time\nimport slam.plot as splt\nimport matplotlib.pyplot as plt\nimport slam.spangy as spgy\n\n## LOAD MESH\nmesh = sio.load_mesh(\"../examples/data/example_mesh.gii\")\nN = 1500\n# Compute eigenpairs and mass matrix\neigVal, eigVects, lap_b = spgy.eigenpairs(mesh,N)\n\n## CURVATURE\nPrincipalCurvatures, PrincipalDir1, PrincipalDir2 = \\\n    scurv.curvatures_and_derivatives(mesh)\nmean_curv = 0.5 * (PrincipalCurvatures[0, :] + PrincipalCurvatures[1, :])\n\n# Plot of mean curvature on the mesh\nvisb_sc = splt.visbrain_plot(mesh=mesh, tex=mean_curv, caption='Mean Curvature', cmap='jet')\nvisb_sc.preview()\n\n## WHOLE BRAIN SPECTRUM\ngrouped_spectrum,group_indices,coefficients = spgy.spectrum(mean_curv, lap_b, eigVects, eigVal)\nlevels=len(group_indices)\n\n# a. Whole brain parameters\nmL_in_MM3=1000\nCM2_in_MM2=100\nvolume = mesh.volume\nsurface_area = mesh.area\nafp=np.sum(grouped_spectrum[1:])\nprint('** a. Whole brain parameters **')\nprint('Volume = %d mL, Area = %d cm^2, Analyze Folding Power = %f,' % (np.floor(volume/mL_in_MM3),np.floor(surface_area/CM2_in_MM2),afp))\n\n# b. Band number of parcels\nprint('** b. Band number of parcels **')\nprint('B4 = %f, B5 = %f, B6 = %f' % (0,0,0))\n\n# c. Band power\nprint('** c. Band power **')\nprint('B4 = %f, B5 = %f, B6 = %f' % (grouped_spectrum[4],grouped_spectrum[5],grouped_spectrum[6]))\n\n# d. Band relative power\nprint('** d. Band relative power **')\nprint('B4 = %0.5f, B5 = %0.5f , B6 = %0.5f' % (grouped_spectrum[4]/afp,grouped_spectrum[5]/afp,grouped_spectrum[6]/afp))\n\n# Create two subplots\nfig, (ax1, ax2) = plt.subplots(1, 2)\n# Plot the sqrt of the eigVals divided by 2*np.pi against the coefficients in the first subplot\nax1.plot(np.sqrt(eigVal[1:])/(2*np.pi),coefficients[1:])\nax1.set_xlabel('Frequency (m^{-1})')\nax1.set_ylabel('Coefficients')\n\n# Barplot for the nlevels and grouped spectrum in the second subplot\n# Barplot in ax2 between nlevels and grouped spectrum\nprint(grouped_spectrum)\nax2.bar(np.arange(0,levels),grouped_spectrum.squeeze())\nax2.set_xlabel('Spangy Frequency Bands')\nax2.set_ylabel('Power Spectrum')\n\nplt.show()\n\n## LOCAL SPECTRAL BANDS\nloc_dom_band, frecomposed = spgy.local_dominance_map(coefficients,mean_curv,levels,group_indices,eigVects)\n\n# Plot of spectral dominant bands on the mesh\nvisb_sc = splt.visbrain_plot(mesh=mesh, tex=loc_dom_band, caption='Local Dominant Band', cmap='jet')\nvisb_sc.preview()"
      ]
    }
  ],
  "metadata": {
    "kernelspec": {
      "display_name": "Python 3",
      "language": "python",
      "name": "python3"
    },
    "language_info": {
      "codemirror_mode": {
        "name": "ipython",
        "version": 3
      },
      "file_extension": ".py",
      "mimetype": "text/x-python",
      "name": "python",
      "nbconvert_exporter": "python",
      "pygments_lexer": "ipython3",
      "version": "3.8.5"
    }
  },
  "nbformat": 4,
  "nbformat_minor": 0
}