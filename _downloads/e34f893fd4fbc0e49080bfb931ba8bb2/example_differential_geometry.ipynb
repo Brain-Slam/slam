{
  "cells": [
    {
      "cell_type": "code",
      "execution_count": null,
      "metadata": {
        "collapsed": false
      },
      "outputs": [],
      "source": [
        "%matplotlib inline"
      ]
    },
    {
      "cell_type": "markdown",
      "metadata": {},
      "source": [
        "\n\n# example of differential geometry tools in slam\n"
      ]
    },
    {
      "cell_type": "code",
      "execution_count": null,
      "metadata": {
        "collapsed": false
      },
      "outputs": [],
      "source": [
        "# Authors: Guillaume Auzias <guillaume.auzias@univ-amu.fr>\n\n# License: BSD (3-clause)\n# sphinx_gallery_thumbnail_number = 2"
      ]
    },
    {
      "cell_type": "markdown",
      "metadata": {},
      "source": [
        "importation of slam modules\n\n"
      ]
    },
    {
      "cell_type": "code",
      "execution_count": null,
      "metadata": {
        "collapsed": false
      },
      "outputs": [],
      "source": [
        "import slam.io as sio\nimport slam.differential_geometry as sdg\nimport slam.plot as splt"
      ]
    },
    {
      "cell_type": "markdown",
      "metadata": {},
      "source": [
        "loading an examplar mesh and corresponding texture and show it\n\n"
      ]
    },
    {
      "cell_type": "code",
      "execution_count": null,
      "metadata": {
        "collapsed": false
      },
      "outputs": [],
      "source": [
        "mesh_file = \"../examples/data/example_mesh.gii\"\ntexture_file = \"../examples/data/example_texture.gii\"\nmesh = sio.load_mesh(mesh_file)\ntex = sio.load_texture(texture_file)\n\nvisb_sc = splt.visbrain_plot(\n    mesh=mesh, tex=tex.darray[0], caption=\"mesh with curvature\", cblabel=\"curvature\"\n)\nvisb_sc.preview()"
      ]
    },
    {
      "cell_type": "markdown",
      "metadata": {},
      "source": [
        "compute various types of Laplacian of the mesh\n\n"
      ]
    },
    {
      "cell_type": "code",
      "execution_count": null,
      "metadata": {
        "collapsed": false
      },
      "outputs": [],
      "source": [
        "lap, lap_b = sdg.compute_mesh_laplacian(mesh, lap_type=\"fem\")\nprint(mesh.vertices.shape)\nprint(lap.shape)\nlap, lap_b = sdg.compute_mesh_laplacian(mesh, lap_type=\"conformal\")\nlap, lap_b = sdg.compute_mesh_laplacian(mesh, lap_type=\"meanvalue\")\nlap, lap_b = sdg.compute_mesh_laplacian(mesh, lap_type=\"authalic\")"
      ]
    },
    {
      "cell_type": "markdown",
      "metadata": {},
      "source": [
        "smooth the mesh using Laplacian\n\n"
      ]
    },
    {
      "cell_type": "code",
      "execution_count": null,
      "metadata": {
        "collapsed": false
      },
      "outputs": [],
      "source": [
        "s_mesh = sdg.laplacian_mesh_smoothing(mesh, nb_iter=100, dt=0.1)"
      ]
    },
    {
      "cell_type": "markdown",
      "metadata": {},
      "source": [
        "show it\n\n"
      ]
    },
    {
      "cell_type": "code",
      "execution_count": null,
      "metadata": {
        "collapsed": false
      },
      "outputs": [],
      "source": [
        "visb_sc = splt.visbrain_plot(mesh=s_mesh, caption=\"smoothed mesh\")\nvisb_sc.preview()"
      ]
    },
    {
      "cell_type": "markdown",
      "metadata": {},
      "source": [
        "compute the gradient of texture tex\n\n"
      ]
    },
    {
      "cell_type": "code",
      "execution_count": null,
      "metadata": {
        "collapsed": false
      },
      "outputs": [],
      "source": [
        "triangle_grad = sdg.triangle_gradient(mesh, tex.darray[0])\nprint(triangle_grad)\ngrad = sdg.gradient(mesh, tex.darray[0])\nprint(grad)\nnorm_grad = sdg.norm_gradient(mesh, tex.darray[0])\nprint(norm_grad)"
      ]
    },
    {
      "cell_type": "markdown",
      "metadata": {},
      "source": [
        "show it\n\n"
      ]
    },
    {
      "cell_type": "code",
      "execution_count": null,
      "metadata": {
        "collapsed": false
      },
      "outputs": [],
      "source": [
        "visb_sc = splt.visbrain_plot(\n    mesh=mesh,\n    tex=norm_grad,\n    caption=\"norm of the gradient of curvature\",\n    cblabel=\"gradient magnitude\",\n)\nvisb_sc.preview()"
      ]
    },
    {
      "cell_type": "markdown",
      "metadata": {},
      "source": [
        "compute the depth potential function\n\n"
      ]
    },
    {
      "cell_type": "code",
      "execution_count": null,
      "metadata": {
        "collapsed": false
      },
      "outputs": [],
      "source": [
        "dpf = sdg.depth_potential_function(mesh, tex.darray[0], [0.3])"
      ]
    },
    {
      "cell_type": "markdown",
      "metadata": {},
      "source": [
        "show it\n\n"
      ]
    },
    {
      "cell_type": "code",
      "execution_count": null,
      "metadata": {
        "collapsed": false
      },
      "outputs": [],
      "source": [
        "visb_sc = splt.visbrain_plot(\n    mesh=mesh, tex=dpf[0], caption=\"depth potential function\", cblabel=\"dpf\"\n)\nvisb_sc.preview()"
      ]
    }
  ],
  "metadata": {
    "kernelspec": {
      "display_name": "Python 3",
      "language": "python",
      "name": "python3"
    },
    "language_info": {
      "codemirror_mode": {
        "name": "ipython",
        "version": 3
      },
      "file_extension": ".py",
      "mimetype": "text/x-python",
      "name": "python",
      "nbconvert_exporter": "python",
      "pygments_lexer": "ipython3",
      "version": "3.8.5"
    }
  },
  "nbformat": 4,
  "nbformat_minor": 0
}