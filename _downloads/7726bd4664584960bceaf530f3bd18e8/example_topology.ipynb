{
  "cells": [
    {
      "cell_type": "code",
      "execution_count": null,
      "metadata": {
        "collapsed": false
      },
      "outputs": [],
      "source": [
        "%matplotlib inline"
      ]
    },
    {
      "cell_type": "markdown",
      "metadata": {},
      "source": [
        "\n\n# Show topology manipulation tools in slam\n"
      ]
    },
    {
      "cell_type": "code",
      "execution_count": null,
      "metadata": {
        "collapsed": false
      },
      "outputs": [],
      "source": [
        "# Authors: Guillaume Auzias <guillaume.auzias@univ-amu.fr>\n\n# License: BSD (3-clause)\n# sphinx_gallery_thumbnail_number = 2"
      ]
    },
    {
      "cell_type": "markdown",
      "metadata": {},
      "source": [
        "importation of slam modules\n\n"
      ]
    },
    {
      "cell_type": "code",
      "execution_count": null,
      "metadata": {
        "collapsed": false
      },
      "outputs": [],
      "source": [
        "import slam.io as sio\nimport slam.topology as stop\nimport slam.plot as splt\nimport slam.generate_parametric_surfaces as sps\nimport numpy as np\nfrom vispy.scene import Line\nfrom visbrain.objects import VispyObj, SourceObj"
      ]
    },
    {
      "cell_type": "markdown",
      "metadata": {},
      "source": [
        "here is how to get the vertices that define the boundary of an open mesh\n\n"
      ]
    },
    {
      "cell_type": "code",
      "execution_count": null,
      "metadata": {
        "collapsed": false
      },
      "outputs": [],
      "source": [
        "K = [-1, -1]\nopen_mesh = sps.generate_quadric(K, nstep=[5, 5])"
      ]
    },
    {
      "cell_type": "markdown",
      "metadata": {},
      "source": [
        "Identify the vertices lying on the boundary of the mesh and order\nthem to get a path traveling across boundary vertices\nThe output is a list of potentially more than one boudaries\ndepending on the topology of the input mesh.\nHere the mesh has a single boundary\n\n"
      ]
    },
    {
      "cell_type": "code",
      "execution_count": null,
      "metadata": {
        "collapsed": false
      },
      "outputs": [],
      "source": [
        "open_mesh_boundary = stop.mesh_boundary(open_mesh)\nprint(open_mesh_boundary)"
      ]
    },
    {
      "cell_type": "markdown",
      "metadata": {},
      "source": [
        "show the result\nWARNING : BrainObj should be added first before\n\n"
      ]
    },
    {
      "cell_type": "code",
      "execution_count": null,
      "metadata": {
        "collapsed": false
      },
      "outputs": [],
      "source": [
        "visb_sc = splt.visbrain_plot(mesh=open_mesh, caption=\"open mesh\")\n# create points with vispy\nfor bound in open_mesh_boundary:\n    points = open_mesh.vertices[bound]\n    s_rad = SourceObj(\"rad\", points, color=\"red\", symbol=\"square\", radius_min=10)\n    visb_sc.add_to_subplot(s_rad)\n    lines = Line(pos=open_mesh.vertices[bound], width=10, color=\"b\")\n    # wrap the vispy object using visbrain\n    l_obj = VispyObj(\"line\", lines)\n    visb_sc.add_to_subplot(l_obj)\nvisb_sc.preview()"
      ]
    },
    {
      "cell_type": "markdown",
      "metadata": {},
      "source": [
        "eroding the mesh by removing the faces having 3 vertices on the boundary\n\n"
      ]
    },
    {
      "cell_type": "code",
      "execution_count": null,
      "metadata": {
        "collapsed": false
      },
      "outputs": [],
      "source": [
        "eroded_mesh = stop.remove_mesh_boundary_faces(open_mesh, face_vertex_number=1)"
      ]
    },
    {
      "cell_type": "markdown",
      "metadata": {},
      "source": [
        "show the result\n\n"
      ]
    },
    {
      "cell_type": "code",
      "execution_count": null,
      "metadata": {
        "collapsed": false
      },
      "outputs": [],
      "source": [
        "visb_sc2 = splt.visbrain_plot(mesh=eroded_mesh, caption=\"eroded mesh\")\n# show again the boundary of original mesh which have been removed with\n# corresponding faces by the erosion\nfor bound in open_mesh_boundary:\n    points = open_mesh.vertices[bound]\n    s_rad = SourceObj(\"rad\", points, color=\"red\", symbol=\"square\", radius_min=10)\n    visb_sc2.add_to_subplot(s_rad)\n    lines = Line(pos=open_mesh.vertices[bound], width=10, color=\"b\")\n    # wrap the vispy object using visbrain\n    l_obj = VispyObj(\"line\", lines)\n    visb_sc2.add_to_subplot(l_obj)\nvisb_sc2.preview()"
      ]
    },
    {
      "cell_type": "markdown",
      "metadata": {},
      "source": [
        "here is how to get the vertices that define the boundary of\na texture on a mesh\nLet us first load example data\n\n"
      ]
    },
    {
      "cell_type": "code",
      "execution_count": null,
      "metadata": {
        "collapsed": false
      },
      "outputs": [],
      "source": [
        "mesh = sio.load_mesh(\"../examples/data/example_mesh.gii\")\n# rotate the mesh for better visualization\ntransfo_flip = np.array([[-1, 0, 0, 0], [0, 1, 0, 0], [0, 0, -1, 0], [0, 0, 0, 1]])\nmesh.apply_transform(transfo_flip)\n\n# Load the example texture and compute its boundary\ntex_parcel = sio.load_texture(\"../examples/data/example_texture_parcel.gii\")\ntexture_bound = stop.texture_boundary(mesh, tex_parcel.darray[0], 20)"
      ]
    },
    {
      "cell_type": "markdown",
      "metadata": {},
      "source": [
        "show the results\n\n"
      ]
    },
    {
      "cell_type": "code",
      "execution_count": null,
      "metadata": {
        "collapsed": false
      },
      "outputs": [],
      "source": [
        "visb_sc3 = splt.visbrain_plot(\n    mesh=mesh, tex=tex_parcel.darray[0], caption=\"texture boundary\"\n)\ncols = [\"red\", \"green\", \"yellow\", \"blue\"]\nind = 0\nfor bound in texture_bound:\n    points = mesh.vertices[bound]\n    s_rad = SourceObj(\"rad\", points, color=\"red\", symbol=\"square\", radius_min=10)\n    visb_sc3.add_to_subplot(s_rad)\n    lines = Line(pos=mesh.vertices[bound], width=10, color=cols[ind])\n    # wrap the vispy object using visbrain\n    l_obj = VispyObj(\"line\", lines)\n    visb_sc3.add_to_subplot(l_obj)\n    ind += 1\n    if ind == len(cols):\n        ind = 0\nvisb_sc3.preview()"
      ]
    },
    {
      "cell_type": "markdown",
      "metadata": {},
      "source": [
        "================= cut_mesh =================\nCut he mesh into subparts corresponding to the different values in\nthe texture tex_parcel\n\n"
      ]
    },
    {
      "cell_type": "code",
      "execution_count": null,
      "metadata": {
        "collapsed": false
      },
      "outputs": [],
      "source": [
        "parc_u = np.unique(tex_parcel.darray[0])\nprint(\n    \"Here the texture contains {0} different values: {1}\" \"\".format(len(parc_u), parc_u)\n)"
      ]
    },
    {
      "cell_type": "markdown",
      "metadata": {},
      "source": [
        "Let us cut the mesh\n\n"
      ]
    },
    {
      "cell_type": "code",
      "execution_count": null,
      "metadata": {
        "collapsed": false
      },
      "outputs": [],
      "source": [
        "sub_meshes, sub_tex, sub_corresp = stop.cut_mesh(mesh, tex_parcel.darray[0])\n# The output submeshes are ordered following texture values\n# The second output of cut_mesh gives the texture value corresponding to\n# each submesh\nprint(\n    \"Corresponding texture values are given by\" \" the second ouput: {}\".format(sub_tex)\n)\n\n# The respective indices of the vertices of each submesh in the original\n# mesh before the cut is given by the third output:\nprint(sub_corresp)"
      ]
    },
    {
      "cell_type": "markdown",
      "metadata": {},
      "source": [
        "show the mesh with the cuted subparts in different colors\n\n"
      ]
    },
    {
      "cell_type": "code",
      "execution_count": null,
      "metadata": {
        "collapsed": false
      },
      "outputs": [],
      "source": [
        "scene_list = list()\ncuted_mesh = sub_meshes[-1]\njoint_mesh = sub_meshes[0]\njoint_tex = np.zeros((sub_meshes[0].vertices.shape[0],))\nlast_ind = sub_meshes[0].vertices.shape[0]\nfor ind, sub_mesh in enumerate(sub_meshes[1:]):\n    sub_tex = np.ones((sub_mesh.vertices.shape[0],)) * (ind + 1)\n    joint_mesh += sub_mesh\n    joint_tex = np.hstack((joint_tex, sub_tex))\nvisb_sc3 = splt.visbrain_plot(\n    mesh=joint_mesh, tex=joint_tex, caption=\"mesh parts shown in different colors\"\n)\nind = 0\nboundaries = stop.mesh_boundary(cuted_mesh)\nfor bound in boundaries:\n    s_rad = SourceObj(\n        \"rad\",\n        cuted_mesh.vertices[bound],\n        color=cols[ind],\n        symbol=\"square\",\n        radius_min=10,\n    )\n    visb_sc3.add_to_subplot(s_rad)\n    lines = Line(pos=cuted_mesh.vertices[bound], color=cols[ind], width=10)\n    # wrap the vispy object using visbrain\n    l_obj = VispyObj(\"line\", lines)\n    visb_sc3.add_to_subplot(l_obj)\n    ind += 1\n    if ind == len(cols):\n        ind = 0\n\nvisb_sc3.preview()"
      ]
    },
    {
      "cell_type": "markdown",
      "metadata": {},
      "source": [
        "show the largest submesh with the boundaries of cutted parts\n\n"
      ]
    },
    {
      "cell_type": "code",
      "execution_count": null,
      "metadata": {
        "collapsed": false
      },
      "outputs": [],
      "source": [
        "visb_sc4 = splt.visbrain_plot(mesh=cuted_mesh, caption=\"open mesh\")\n# create points with vispy\nfor bound in boundaries:\n    points = cuted_mesh.vertices[bound]\n    s_rad = SourceObj(\"rad\", points, color=\"blue\", symbol=\"square\", radius_min=10)\n    visb_sc4.add_to_subplot(s_rad)\n    lines = Line(pos=cuted_mesh.vertices[bound], width=10, color=\"r\")\n    # wrap the vispy object using visbrain\n    l_obj = VispyObj(\"line\", lines)\n    visb_sc4.add_to_subplot(l_obj)\nvisb_sc4.preview()"
      ]
    },
    {
      "cell_type": "markdown",
      "metadata": {},
      "source": [
        "================= close_mesh =================\nclose the largest submesh\n\n"
      ]
    },
    {
      "cell_type": "code",
      "execution_count": null,
      "metadata": {
        "collapsed": false
      },
      "outputs": [],
      "source": [
        "mesh_closed, nb_verts_added = stop.close_mesh(cuted_mesh)\n\n# The closed mesh is watertight while before closing if was not\nprint(mesh.is_watertight)\nprint(mesh_closed.is_watertight)"
      ]
    },
    {
      "cell_type": "markdown",
      "metadata": {},
      "source": [
        "show the closed mesh\n\n"
      ]
    },
    {
      "cell_type": "code",
      "execution_count": null,
      "metadata": {
        "collapsed": false
      },
      "outputs": [],
      "source": [
        "visb_sc5 = splt.visbrain_plot(mesh=mesh_closed, caption=\"closed mesh\")\nvisb_sc5.preview()"
      ]
    }
  ],
  "metadata": {
    "kernelspec": {
      "display_name": "Python 3",
      "language": "python",
      "name": "python3"
    },
    "language_info": {
      "codemirror_mode": {
        "name": "ipython",
        "version": 3
      },
      "file_extension": ".py",
      "mimetype": "text/x-python",
      "name": "python",
      "nbconvert_exporter": "python",
      "pygments_lexer": "ipython3",
      "version": "3.8.5"
    }
  },
  "nbformat": 4,
  "nbformat_minor": 0
}