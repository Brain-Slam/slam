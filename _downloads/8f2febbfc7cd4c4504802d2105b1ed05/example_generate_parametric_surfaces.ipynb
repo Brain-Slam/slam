{
  "cells": [
    {
      "cell_type": "code",
      "execution_count": null,
      "metadata": {
        "collapsed": false
      },
      "outputs": [],
      "source": [
        "%matplotlib inline"
      ]
    },
    {
      "cell_type": "markdown",
      "metadata": {},
      "source": [
        "\n\n# Generating parametric surfaces in slam\n"
      ]
    },
    {
      "cell_type": "code",
      "execution_count": null,
      "metadata": {
        "collapsed": false
      },
      "outputs": [],
      "source": [
        "# Authors:\n# Guillaume Auzias <guillaume.auzias@univ-amu.fr>\n# Julien Barr\u00e8s <julien.barres@etu.univ-amu.fr>\n\n# License: BSD (3-clause)\n# sphinx_gallery_thumbnail_number = 2"
      ]
    },
    {
      "cell_type": "markdown",
      "metadata": {},
      "source": [
        "Importation of slam modules\n\n"
      ]
    },
    {
      "cell_type": "code",
      "execution_count": null,
      "metadata": {
        "collapsed": false
      },
      "outputs": [],
      "source": [
        "import slam.generate_parametric_surfaces as sgps\nimport slam.plot as splt\nimport numpy as np"
      ]
    },
    {
      "cell_type": "markdown",
      "metadata": {},
      "source": [
        "Generating a quadrix surface\n\n"
      ]
    },
    {
      "cell_type": "code",
      "execution_count": null,
      "metadata": {
        "collapsed": false
      },
      "outputs": [],
      "source": [
        "K = [1, 1]\nquadric = sgps.generate_quadric(\n    K,\n    nstep=[20, 20],\n    ax=3,\n    ay=1,\n    random_sampling=True,\n    ratio=0.3,\n    random_distribution_type=\"gamma\",\n)\nquadric_mean_curv = sgps.quadric_curv_mean(K)(\n    np.array(quadric.vertices[:, 0]), np.array(quadric.vertices[:, 1])\n)\n\nvisb_sc = splt.visbrain_plot(\n    mesh=quadric, tex=quadric_mean_curv, caption=\"quadric\", cblabel=\"mean curvature\"\n)\n\nvisb_sc.preview()"
      ]
    },
    {
      "cell_type": "markdown",
      "metadata": {},
      "source": [
        "Generating an ellipsiods\n\n"
      ]
    },
    {
      "cell_type": "code",
      "execution_count": null,
      "metadata": {
        "collapsed": false
      },
      "outputs": [],
      "source": [
        "nstep = 50\nrandomSampling = True\na = 2\nb = 1\nellips = sgps.generate_ellipsiod(a, b, nstep, randomSampling)\n\nvisb_sc = splt.visbrain_plot(mesh=ellips, caption=\"ellipsoid\")\n\nvisb_sc.preview()"
      ]
    },
    {
      "cell_type": "markdown",
      "metadata": {},
      "source": [
        "Generating a sphere\n\n"
      ]
    },
    {
      "cell_type": "code",
      "execution_count": null,
      "metadata": {
        "collapsed": false
      },
      "outputs": [],
      "source": [
        "sphere_regular = sgps.generate_sphere_icosahedron(subdivisions=3, radius=4)\n\n\nvisb_sc = splt.visbrain_plot(mesh=sphere_regular, caption=\"sphere_regular\")\n\nvisb_sc.preview()"
      ]
    },
    {
      "cell_type": "markdown",
      "metadata": {},
      "source": [
        "Generating a more randomized sphere (random sampling with the same\nnumber of vertices)\n\n"
      ]
    },
    {
      "cell_type": "code",
      "execution_count": null,
      "metadata": {
        "collapsed": false
      },
      "outputs": [],
      "source": [
        "sphere_random = sgps.generate_sphere_random_sampling(\n    vertex_number=sphere_regular.vertices.shape[0], radius=4\n)\n\nvisb_sc = splt.visbrain_plot(\n    mesh=sphere_random, caption=\"sphere_random\", visb_sc=visb_sc\n)\n\nvisb_sc.preview()"
      ]
    },
    {
      "cell_type": "markdown",
      "metadata": {},
      "source": [
        "Computation of the volume and volume error of the spheres\n\n"
      ]
    },
    {
      "cell_type": "code",
      "execution_count": null,
      "metadata": {
        "collapsed": false
      },
      "outputs": [],
      "source": [
        "analytical_vol = (4 / 3) * np.pi * np.power(4, 3)\nprint(\n    \"volume error for regular sampling: {:.3f}\".format(\n        sphere_regular.volume - analytical_vol\n    )\n)\nprint(\n    \"volume error for random sampling: {:.3f}\".format(\n        sphere_random.volume - analytical_vol\n    )\n)"
      ]
    }
  ],
  "metadata": {
    "kernelspec": {
      "display_name": "Python 3",
      "language": "python",
      "name": "python3"
    },
    "language_info": {
      "codemirror_mode": {
        "name": "ipython",
        "version": 3
      },
      "file_extension": ".py",
      "mimetype": "text/x-python",
      "name": "python",
      "nbconvert_exporter": "python",
      "pygments_lexer": "ipython3",
      "version": "3.8.5"
    }
  },
  "nbformat": 4,
  "nbformat_minor": 0
}