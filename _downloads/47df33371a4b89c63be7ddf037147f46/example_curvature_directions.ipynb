{
  "cells": [
    {
      "cell_type": "code",
      "execution_count": null,
      "metadata": {
        "collapsed": false
      },
      "outputs": [],
      "source": [
        "%matplotlib inline"
      ]
    },
    {
      "cell_type": "markdown",
      "metadata": {},
      "source": [
        "\n\n# example of curvature directions in slam\n"
      ]
    },
    {
      "cell_type": "code",
      "execution_count": null,
      "metadata": {
        "collapsed": false
      },
      "outputs": [],
      "source": [
        "# Authors: Julien Lefevre <julien.lefevre@univ-amu.fr>\n\n# License: BSD (3-clause)\n# sphinx_gallery_thumbnail_number = 2"
      ]
    },
    {
      "cell_type": "markdown",
      "metadata": {},
      "source": [
        "importation of slam modules\n\n"
      ]
    },
    {
      "cell_type": "code",
      "execution_count": null,
      "metadata": {
        "collapsed": false
      },
      "outputs": [],
      "source": [
        "import numpy as np\nimport matplotlib.pyplot as plt\nfrom mpl_toolkits.mplot3d import Axes3D\n\nimport slam.generate_parametric_surfaces as sgps\nimport slam.curvature as scurv"
      ]
    },
    {
      "cell_type": "markdown",
      "metadata": {},
      "source": [
        "Visualization of vector fields with matplotlib\n\n"
      ]
    },
    {
      "cell_type": "code",
      "execution_count": null,
      "metadata": {
        "collapsed": false
      },
      "outputs": [],
      "source": [
        "def visualize(mesh, vector_field, colors=None, params=None):\n    \"\"\"\n    Visualize a mesh and a vector field over it\n    :param mesh: a mesh with n points\n    :param vector_field: (n,3) array\n    :param colors: (n,3) array\n    :param params: params[0] is the length of the quivers\n    :return:\n    \"\"\"\n    n = mesh.vertices.shape[0]\n    if colors is None:\n        colors = np.zeros((n, 3))\n        colors[:, 0] = 1\n    if params is None:\n        params = []\n        params.append(0.1)\n\n    fig = plt.figure()\n    ax = Axes3D(fig)\n    ax.plot_trisurf(\n        mesh.vertices[:, 0],\n        mesh.vertices[:, 1],\n        mesh.vertices[:, 2],\n        triangles=mesh.faces,\n        shade=True,\n    )\n    plt.quiver(\n        mesh.vertices[:, 0],\n        mesh.vertices[:, 1],\n        mesh.vertices[:, 2],\n        vector_field[:, 0],\n        vector_field[:, 1],\n        vector_field[:, 2],\n        length=params[0],\n        colors=colors,\n    )\n\n    return fig"
      ]
    },
    {
      "cell_type": "markdown",
      "metadata": {},
      "source": [
        "Create quadric mesh\n\n"
      ]
    },
    {
      "cell_type": "code",
      "execution_count": null,
      "metadata": {
        "collapsed": false
      },
      "outputs": [],
      "source": [
        "nstep = 20\nequilateral = True\n\nK = [1, 0.5]\nquadric_mesh = sgps.generate_quadric(\n    K,\n    nstep=[int(nstep), int(nstep)],\n    equilateral=equilateral,\n    ax=1,\n    ay=1,\n    random_sampling=False,\n    ratio=0.2,\n    random_distribution_type=\"gaussian\",\n)"
      ]
    },
    {
      "cell_type": "markdown",
      "metadata": {},
      "source": [
        "Compute principal directions of curvature\n\n"
      ]
    },
    {
      "cell_type": "code",
      "execution_count": null,
      "metadata": {
        "collapsed": false
      },
      "outputs": [],
      "source": [
        "PrincipalCurvatures, PrincipalDir1, PrincipalDir2 = scurv.curvatures_and_derivatives(\n    quadric_mesh\n)"
      ]
    },
    {
      "cell_type": "markdown",
      "metadata": {},
      "source": [
        "Visualization\n\n"
      ]
    },
    {
      "cell_type": "code",
      "execution_count": null,
      "metadata": {
        "collapsed": false
      },
      "outputs": [],
      "source": [
        "visualize(quadric_mesh, PrincipalDir1)\nplt.show()"
      ]
    }
  ],
  "metadata": {
    "kernelspec": {
      "display_name": "Python 3",
      "language": "python",
      "name": "python3"
    },
    "language_info": {
      "codemirror_mode": {
        "name": "ipython",
        "version": 3
      },
      "file_extension": ".py",
      "mimetype": "text/x-python",
      "name": "python",
      "nbconvert_exporter": "python",
      "pygments_lexer": "ipython3",
      "version": "3.8.5"
    }
  },
  "nbformat": 4,
  "nbformat_minor": 0
}