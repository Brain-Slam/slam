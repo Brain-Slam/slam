{
  "cells": [
    {
      "cell_type": "code",
      "execution_count": null,
      "metadata": {
        "collapsed": false
      },
      "outputs": [],
      "source": [
        "%matplotlib inline"
      ]
    },
    {
      "cell_type": "markdown",
      "metadata": {},
      "source": [
        "\n\n# example of surface profiling in slam\n"
      ]
    },
    {
      "cell_type": "code",
      "execution_count": null,
      "metadata": {
        "collapsed": false
      },
      "outputs": [],
      "source": [
        "# Authors: Tianqi SONG <tianqisong0117@gmail.com>\n\n# License: BSD (3-clause)\n# sphinx_gallery_thumbnail_number = 2"
      ]
    },
    {
      "cell_type": "markdown",
      "metadata": {},
      "source": [
        "importation of slam modules\n\n"
      ]
    },
    {
      "cell_type": "code",
      "execution_count": null,
      "metadata": {
        "collapsed": false
      },
      "outputs": [],
      "source": [
        "import numpy as np\nimport trimesh.visual.color\n\nimport slam.surface_profiling as surfpf\nimport slam.io as sio"
      ]
    },
    {
      "cell_type": "markdown",
      "metadata": {},
      "source": [
        "loading an example mesh\n\n"
      ]
    },
    {
      "cell_type": "code",
      "execution_count": null,
      "metadata": {
        "collapsed": false
      },
      "outputs": [],
      "source": [
        "mesh = sio.load_mesh(\"data/example_mesh.gii\")"
      ]
    },
    {
      "cell_type": "markdown",
      "metadata": {},
      "source": [
        "Select a vertex and get the coordinate and normal.\n\n"
      ]
    },
    {
      "cell_type": "code",
      "execution_count": null,
      "metadata": {
        "collapsed": false
      },
      "outputs": [],
      "source": [
        "vert_index = 1000\nvert0 = mesh.vertices[vert_index]\nnorm0 = mesh.vertex_normals[vert_index]"
      ]
    },
    {
      "cell_type": "markdown",
      "metadata": {},
      "source": [
        "Set the parameters for surface profiling\ninitial direction of rotation, rotation angle, length and number of\nsampling steps\n\n"
      ]
    },
    {
      "cell_type": "code",
      "execution_count": null,
      "metadata": {
        "collapsed": false
      },
      "outputs": [],
      "source": [
        "init_rot_dir = np.array([1, 1, 1]) - vert0\nrot_angle = 10\nr_step = 0.1\nmax_samples = 45"
      ]
    },
    {
      "cell_type": "markdown",
      "metadata": {},
      "source": [
        "Surface profiling\n\n"
      ]
    },
    {
      "cell_type": "code",
      "execution_count": null,
      "metadata": {
        "collapsed": false
      },
      "outputs": [],
      "source": [
        "profile_points = surfpf.surface_profiling_vert(\n    vert0, norm0, init_rot_dir, rot_angle, r_step, max_samples, mesh\n)"
      ]
    },
    {
      "cell_type": "markdown",
      "metadata": {},
      "source": [
        "Visualize result\n\n"
      ]
    },
    {
      "cell_type": "code",
      "execution_count": null,
      "metadata": {
        "collapsed": false
      },
      "outputs": [],
      "source": [
        "prof_points_mesh = profile_points.reshape(\n    profile_points.shape[0] * profile_points.shape[1], 3\n)\nprof_points_colors = np.zeros(prof_points_mesh.shape)\npoints_mesh = trimesh.points.PointCloud(\n    prof_points_mesh, colors=np.array(prof_points_colors, dtype=np.uint8)\n)\n\n# set the points colors\nred, yellow, green, blue = [\n    [255, 0, 0, 255],\n    [255, 255, 0, 255],\n    [0, 255, 0, 255],\n    [0, 0, 255, 255],\n]\ncolor_i = np.zeros(4)\nfor i in range(len(prof_points_mesh)):\n    degree = i / max_samples\n    num_profiles = int(360 / rot_angle)\n    segment_color = num_profiles / 3\n\n    if degree <= segment_color:\n        color_i = trimesh.visual.color.linear_color_map(\n            degree / segment_color, [red, yellow]\n        )\n    elif segment_color < degree <= segment_color * 2:\n        color_i = trimesh.visual.color.linear_color_map(\n            degree / segment_color - 1, [yellow, green]\n        )\n    elif segment_color * 2 < degree <= num_profiles:\n        color_i = trimesh.visual.color.linear_color_map(\n            degree / segment_color - 2, [green, blue]\n        )\n    points_mesh.colors[i] = np.array(color_i)\n\n# create a scene with the mesh and profiling points\n#scene = trimesh.Scene([points_mesh, mesh])\n#scene.show(smooth=False)"
      ]
    }
  ],
  "metadata": {
    "kernelspec": {
      "display_name": "Python 3",
      "language": "python",
      "name": "python3"
    },
    "language_info": {
      "codemirror_mode": {
        "name": "ipython",
        "version": 3
      },
      "file_extension": ".py",
      "mimetype": "text/x-python",
      "name": "python",
      "nbconvert_exporter": "python",
      "pygments_lexer": "ipython3",
      "version": "3.8.5"
    }
  },
  "nbformat": 4,
  "nbformat_minor": 0
}