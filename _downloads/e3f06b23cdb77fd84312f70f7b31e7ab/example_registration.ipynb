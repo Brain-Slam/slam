{
  "cells": [
    {
      "cell_type": "code",
      "execution_count": null,
      "metadata": {
        "collapsed": false
      },
      "outputs": [],
      "source": [
        "%matplotlib inline"
      ]
    },
    {
      "cell_type": "markdown",
      "metadata": {},
      "source": [
        "\n\n# Show mesh registration features in slam\n"
      ]
    },
    {
      "cell_type": "code",
      "execution_count": null,
      "metadata": {
        "collapsed": false
      },
      "outputs": [],
      "source": [
        "# Authors: Guillaume Auzias <guillaume.auzias@univ-amu.fr>\n\n# License: BSD (3-clause)\n# sphinx_gallery_thumbnail_number = 2"
      ]
    },
    {
      "cell_type": "markdown",
      "metadata": {},
      "source": [
        "importation of slam modules\n\n"
      ]
    },
    {
      "cell_type": "code",
      "execution_count": null,
      "metadata": {
        "collapsed": false
      },
      "outputs": [],
      "source": [
        "import slam.plot as splt\nimport slam.io as sio\nimport numpy as np\nimport trimesh"
      ]
    },
    {
      "cell_type": "markdown",
      "metadata": {},
      "source": [
        "loading an two unregistered meshes\n\n"
      ]
    },
    {
      "cell_type": "code",
      "execution_count": null,
      "metadata": {
        "collapsed": false
      },
      "outputs": [],
      "source": [
        "mesh_1 = sio.load_mesh(\"../examples/data/example_mesh.gii\")\nmesh_2 = sio.load_mesh(\"../examples/data/example_mesh_2.gii\")"
      ]
    },
    {
      "cell_type": "markdown",
      "metadata": {},
      "source": [
        "plot them to check the misalignment\n\n"
      ]
    },
    {
      "cell_type": "code",
      "execution_count": null,
      "metadata": {
        "collapsed": false
      },
      "outputs": [],
      "source": [
        "joint_mesh = mesh_1 + mesh_2\njoint_tex = np.ones((joint_mesh.vertices.shape[0],))\njoint_tex[: mesh_1.vertices.shape[0]] = 10\nvisb_sc = splt.visbrain_plot(\n    mesh=joint_mesh, tex=joint_tex, caption=\"before registration\"\n)\nvisb_sc.preview()"
      ]
    },
    {
      "cell_type": "markdown",
      "metadata": {},
      "source": [
        "compute ICP registration\nthis functionnality requires to install the optional package rtree\n\n"
      ]
    },
    {
      "cell_type": "code",
      "execution_count": null,
      "metadata": {
        "collapsed": false
      },
      "outputs": [],
      "source": [
        "transf_mat, cost = trimesh.registration.mesh_other(\n    mesh_1, mesh_2, samples=500, scale=False, icp_first=10, icp_final=100\n)\nprint(transf_mat)\nprint(cost)"
      ]
    },
    {
      "cell_type": "markdown",
      "metadata": {},
      "source": [
        "apply the estimated rigid transformation to the mesh\n\n"
      ]
    },
    {
      "cell_type": "code",
      "execution_count": null,
      "metadata": {
        "collapsed": false
      },
      "outputs": [],
      "source": [
        "mesh_1.apply_transform(transf_mat)"
      ]
    },
    {
      "cell_type": "markdown",
      "metadata": {},
      "source": [
        "plot the two meshes to check they are now aligned\n\n"
      ]
    },
    {
      "cell_type": "code",
      "execution_count": null,
      "metadata": {
        "collapsed": false
      },
      "outputs": [],
      "source": [
        "joint_mesh = mesh_1 + mesh_2\nvisb_sc = splt.visbrain_plot(\n    mesh=joint_mesh, tex=joint_tex, caption=\"after registration\"\n)\nvisb_sc.preview()"
      ]
    }
  ],
  "metadata": {
    "kernelspec": {
      "display_name": "Python 3",
      "language": "python",
      "name": "python3"
    },
    "language_info": {
      "codemirror_mode": {
        "name": "ipython",
        "version": 3
      },
      "file_extension": ".py",
      "mimetype": "text/x-python",
      "name": "python",
      "nbconvert_exporter": "python",
      "pygments_lexer": "ipython3",
      "version": "3.8.5"
    }
  },
  "nbformat": 4,
  "nbformat_minor": 0
}