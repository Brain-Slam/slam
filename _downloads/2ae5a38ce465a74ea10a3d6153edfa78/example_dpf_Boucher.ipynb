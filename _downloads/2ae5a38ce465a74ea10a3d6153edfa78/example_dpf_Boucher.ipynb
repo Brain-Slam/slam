{
  "cells": [
    {
      "cell_type": "code",
      "execution_count": null,
      "metadata": {
        "collapsed": false
      },
      "outputs": [],
      "source": [
        "%matplotlib inline"
      ]
    },
    {
      "cell_type": "markdown",
      "metadata": {},
      "source": [
        "\n\n# Example of depth potential function in slam\n"
      ]
    },
    {
      "cell_type": "code",
      "execution_count": null,
      "metadata": {
        "collapsed": false
      },
      "outputs": [],
      "source": [
        "# Authors: Julien Lefevre <julien.lefevre@univ-amu.fr>\n\n# License: BSD (3-clause)\n# sphinx_gallery_thumbnail_number = 2"
      ]
    },
    {
      "cell_type": "markdown",
      "metadata": {},
      "source": [
        "Import of slam modules\n\n"
      ]
    },
    {
      "cell_type": "code",
      "execution_count": null,
      "metadata": {
        "collapsed": false
      },
      "outputs": [],
      "source": [
        "import slam.curvature as sc\nimport slam.differential_geometry as sdg\nimport slam.plot as splt\nimport matplotlib.pyplot as plt\nimport trimesh\nimport numpy as np\nfrom scipy.spatial import Delaunay"
      ]
    },
    {
      "cell_type": "markdown",
      "metadata": {},
      "source": [
        "Define the example provided in Figure 5 of\nDepth potential function for folding pattern representation,\nregistration and analysis\nMaxime Boucher a,b, * , Sue Whitesides a , Alan Evans\n\n"
      ]
    },
    {
      "cell_type": "code",
      "execution_count": null,
      "metadata": {
        "collapsed": false
      },
      "outputs": [],
      "source": [
        "def boucher_surface(params, ax, ay, nstep):\n    # Parameters\n    xmin, xmax = [-ax, ax]\n    ymin, ymax = [-ay, ay]\n    # Define the sampling\n    stepx = (xmax - xmin) / nstep\n    stepy = stepx * np.sqrt(3) / 2  # to ensure equilateral faces\n\n    # Coordinates\n    x = np.arange(xmin, xmax, stepx)\n    y = np.arange(ymin, ymax, stepy)\n    X, Y = np.meshgrid(x, y)\n\n    X[::2] += stepx / 2\n    X = X.flatten()\n    Y = Y.flatten()\n\n    # Delaunay\n    faces_tri = Delaunay(np.vstack((X, Y)).T, qhull_options=\"QJ Qt Qbb\")\n\n    # Equation for Z\n    M = params[0]\n    sigma = params[1]  # called sigma_y in the paper\n    Z = (\n        M\n        / sigma\n        * np.exp(-(X**2) - Y**2 / (2 * sigma**2))\n        * (Y**2 - sigma**2)\n    )\n\n    # Mesh\n    coords = np.array([X, Y, Z]).transpose()\n    mesh = trimesh.Trimesh(faces=faces_tri.simplices, vertices=coords, process=False)\n    return mesh\n\n\nparams = [4, 0.25]\nax = 2\nay = 1\nnstep = 50\nmesh = boucher_surface(params, ax, ay, nstep)"
      ]
    },
    {
      "cell_type": "markdown",
      "metadata": {},
      "source": [
        "Visualization of the mesh\n\n"
      ]
    },
    {
      "cell_type": "code",
      "execution_count": null,
      "metadata": {
        "collapsed": false
      },
      "outputs": [],
      "source": [
        "visb_sc = splt.visbrain_plot(mesh=mesh, caption=\"Boucher mesh\", bgcolor=[0.3, 0.5, 0.7])\nvisb_sc\nvisb_sc.preview()"
      ]
    },
    {
      "cell_type": "markdown",
      "metadata": {},
      "source": [
        "Compute dpf for various alpha\n\n"
      ]
    },
    {
      "cell_type": "code",
      "execution_count": null,
      "metadata": {
        "collapsed": false
      },
      "outputs": [],
      "source": [
        "res = sc.curvatures_and_derivatives(mesh)\nmean_curvature = res[0].sum(axis=0)\nalphas = [0.001, 0.01, 0.1, 1, 10, 100]\ndpfs = sdg.depth_potential_function(mesh, curvature=mean_curvature, alphas=alphas)\n\namplitude_center = []\namplitude_peak = []\nindex_peak_pos = np.argmax(mesh.vertices[:, 2])\nindex_peak_neg = np.argmin(mesh.vertices[:, 2])\nfor i in range(len(dpfs)):\n    amplitude_center.append(dpfs[i][index_peak_neg])\n    amplitude_peak.append(dpfs[i][index_peak_pos])\n\nplt.semilogx(alphas, amplitude_center)\nplt.semilogx(alphas, amplitude_peak)\nplt.semilogx(alphas, len(alphas) * [params[0] * (1 + 2 * np.exp(-3 / 2))], \"--\")\nplt.xlabel(\"alpha\")\nplt.ylabel(\"amplitude\")\nplt.legend([\"DPF at center\", \"DPF (secondary peaks)\", \"True amplitude\"])\nplt.show()"
      ]
    },
    {
      "cell_type": "markdown",
      "metadata": {},
      "source": [
        "Display dpfs on the surfaces\n\n"
      ]
    },
    {
      "cell_type": "code",
      "execution_count": null,
      "metadata": {
        "collapsed": false
      },
      "outputs": [],
      "source": [
        "visb_sc = splt.visbrain_plot(\n    mesh=mesh, tex=dpfs[0], caption=\"Boucher mesh\", bgcolor=\"white\"\n)\nvisb_sc = splt.visbrain_plot(\n    mesh=mesh, tex=dpfs[5], caption=\"Boucher mesh\", visb_sc=visb_sc\n)\nvisb_sc.preview()"
      ]
    },
    {
      "cell_type": "markdown",
      "metadata": {},
      "source": [
        "Fix alpha and vary M = params[0]\n\n"
      ]
    },
    {
      "cell_type": "code",
      "execution_count": null,
      "metadata": {
        "collapsed": false
      },
      "outputs": [],
      "source": [
        "all_M = [0.5, 0.75, 1, 1.25, 1.5, 1.75, 2]\nall_amplitudes = []\n\nfor M in all_M:\n    mesh = boucher_surface([M, 0.25], ax, ay, nstep)\n    res = sc.curvatures_and_derivatives(mesh)\n    mean_curvature = res[0].sum(axis=0)\n    dpfs = sdg.depth_potential_function(mesh, curvature=mean_curvature, alphas=[0.0015])\n    all_amplitudes.append(dpfs[0][len(mesh.vertices) // 2])\n\nplt.plot(all_M, all_amplitudes, \"+-\")\nplt.xlabel(\"M\")\nplt.ylabel(\"Amplitude of DPF\")\nplt.show()"
      ]
    }
  ],
  "metadata": {
    "kernelspec": {
      "display_name": "Python 3",
      "language": "python",
      "name": "python3"
    },
    "language_info": {
      "codemirror_mode": {
        "name": "ipython",
        "version": 3
      },
      "file_extension": ".py",
      "mimetype": "text/x-python",
      "name": "python",
      "nbconvert_exporter": "python",
      "pygments_lexer": "ipython3",
      "version": "3.8.5"
    }
  },
  "nbformat": 4,
  "nbformat_minor": 0
}